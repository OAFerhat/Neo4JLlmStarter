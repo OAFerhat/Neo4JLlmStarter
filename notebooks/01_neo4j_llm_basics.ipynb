{
 "cells": [
  {
   "cell_type": "markdown",
   "metadata": {},
   "source": [
    "# Neo4j and LLM Integration Basics\n",
    "\n",
    "This notebook demonstrates the basic concepts of working with Neo4j and LLMs using LangChain. You can experiment with different queries, see the results immediately, and modify the code interactively."
   ]
  },
  {
   "cell_type": "markdown",
   "metadata": {},
   "source": [
    "## Setup\n",
    "First, let's import our required libraries and set up our connections"
   ]
  },
  {
   "cell_type": "code",
   "execution_count": 1,
   "metadata": {},
   "outputs": [
    {
     "ename": "NameError",
     "evalue": "name '__file__' is not defined",
     "output_type": "error",
     "traceback": [
      "\u001b[0;31m---------------------------------------------------------------------------\u001b[0m",
      "\u001b[0;31mNameError\u001b[0m                                 Traceback (most recent call last)",
      "Cell \u001b[0;32mIn[1], line 47\u001b[0m\n\u001b[1;32m     43\u001b[0m     \u001b[38;5;28;01melse\u001b[39;00m:\n\u001b[1;32m     44\u001b[0m         \u001b[38;5;28mprint\u001b[39m(\u001b[38;5;124m\"\u001b[39m\u001b[38;5;124mError: OPENAI_API_KEY not found in environment variables\u001b[39m\u001b[38;5;124m\"\u001b[39m)\n\u001b[0;32m---> 47\u001b[0m \u001b[43mtest_env_loading\u001b[49m\u001b[43m(\u001b[49m\u001b[43m)\u001b[49m\n",
      "Cell \u001b[0;32mIn[1], line 23\u001b[0m, in \u001b[0;36mtest_env_loading\u001b[0;34m()\u001b[0m\n\u001b[1;32m      7\u001b[0m \u001b[38;5;28;01mdef\u001b[39;00m \u001b[38;5;21mtest_env_loading\u001b[39m():\n\u001b[1;32m      8\u001b[0m \u001b[38;5;250m    \u001b[39m\u001b[38;5;124;03m\"\"\"\u001b[39;00m\n\u001b[1;32m      9\u001b[0m \u001b[38;5;124;03m    Test the loading of environment variables from a .env file located at the \u001b[39;00m\n\u001b[1;32m     10\u001b[0m \u001b[38;5;124;03m    project root directory. The function retrieves the OpenAI API key and \u001b[39;00m\n\u001b[0;32m   (...)\u001b[0m\n\u001b[1;32m     21\u001b[0m \u001b[38;5;124;03m    - If the API key is not found, print an error message.\u001b[39;00m\n\u001b[1;32m     22\u001b[0m \u001b[38;5;124;03m    \"\"\"\u001b[39;00m\n\u001b[0;32m---> 23\u001b[0m     project_root \u001b[38;5;241m=\u001b[39m Path(\u001b[38;5;18;43m__file__\u001b[39;49m)\u001b[38;5;241m.\u001b[39mparent\u001b[38;5;241m.\u001b[39mparent\n\u001b[1;32m     24\u001b[0m     \u001b[38;5;28mprint\u001b[39m(\u001b[38;5;124mf\u001b[39m\u001b[38;5;124m\"\u001b[39m\u001b[38;5;124mCurrent working directory: \u001b[39m\u001b[38;5;132;01m{\u001b[39;00mos\u001b[38;5;241m.\u001b[39mgetcwd()\u001b[38;5;132;01m}\u001b[39;00m\u001b[38;5;124m\"\u001b[39m)\n\u001b[1;32m     25\u001b[0m     \u001b[38;5;28mprint\u001b[39m(\u001b[38;5;124mf\u001b[39m\u001b[38;5;124m\"\u001b[39m\u001b[38;5;124mProject root directory: \u001b[39m\u001b[38;5;132;01m{\u001b[39;00mproject_root\u001b[38;5;132;01m}\u001b[39;00m\u001b[38;5;124m\"\u001b[39m)\n",
      "\u001b[0;31mNameError\u001b[0m: name '__file__' is not defined"
     ]
    }
   ],
   "source": [
    "import os\n",
    "from dotenv import load_dotenv\n",
    "import sys\n",
    "from pathlib import Path\n",
    "from langchain_openai import OpenAI\n",
    "\n",
    "def test_env_loading():\n",
    "    \"\"\"\n",
    "    Test the loading of environment variables from a .env file located at the \n",
    "    project root directory. The function retrieves the OpenAI API key and \n",
    "    invokes a model to get a response for a specific query.\n",
    "\n",
    "    Steps:\n",
    "    - Determine the project root directory.\n",
    "    - Print the current working directory and project root for debugging.\n",
    "    - Check for the existence of the .env file in the project root.\n",
    "    - Load the environment variables from the .env file.\n",
    "    - Retrieve the 'OPENAI_API_KEY' from the environment variables.\n",
    "    - If found, use the key to invoke an OpenAI model.\n",
    "    - Print the API key prefix and the response from the model.\n",
    "    - If the API key is not found, print an error message.\n",
    "    \"\"\"\n",
    "    project_root = Path(__file__).parent.parent\n",
    "    print(f\"Current working directory: {os.getcwd()}\")\n",
    "    print(f\"Project root directory: {project_root}\")\n",
    "    \n",
    "    env_path = project_root / '.env'\n",
    "    print(f\"Looking for .env file at: {env_path}\")\n",
    "    \n",
    "    if not env_path.exists():\n",
    "        print(f\"Error: .env file not found at {env_path}\")\n",
    "        sys.exit(1)\n",
    "        \n",
    "    load_dotenv(dotenv_path=env_path)\n",
    "    \n",
    "    api_key = os.getenv(\"OPENAI_API_KEY\")\n",
    "    if api_key:\n",
    "        print(\"API Key found!\")\n",
    "        print(f\"API Key starts with: {api_key[:8]}...\")\n",
    "        llm = OpenAI(openai_api_key=api_key)\n",
    "        response = llm.invoke(\"what are the main steps to implement a chatbot with neo4j, Next.js, and OpenAI?\")\n",
    "        print(response)\n",
    "    else:\n",
    "        print(\"Error: OPENAI_API_KEY not found in environment variables\")\n",
    "\n",
    "\n",
    "test_env_loading()"
   ]
  },
  {
   "cell_type": "markdown",
   "metadata": {},
   "source": [
    "## Connect to Neo4j\n",
    "Now we'll establish our connection to the Neo4j database"
   ]
  },
  {
   "cell_type": "code",
   "execution_count": null,
   "metadata": {},
   "outputs": [],
   "source": [
    "graph = Neo4jGraph(\n",
    "    url=os.getenv(\"NEO4J_URI\"),\n",
    "    username=os.getenv(\"NEO4J_USERNAME\"),\n",
    "    password=os.getenv(\"NEO4J_PASSWORD\")\n",
    ")\n",
    "\n",
    "# Test the connection by getting schema\n",
    "print(graph.get_schema())"
   ]
  },
  {
   "cell_type": "markdown",
   "metadata": {},
   "source": [
    "## Set up LangChain Integration\n",
    "Here we'll create our QA chain that combines Neo4j with LLM capabilities"
   ]
  },
  {
   "cell_type": "code",
   "execution_count": null,
   "metadata": {},
   "outputs": [],
   "source": [
    "llm = OpenAI(temperature=0, api_key=os.getenv(\"OPENAI_API_KEY\"))\n",
    "chain = GraphCypherQAChain.from_llm(\n",
    "    llm=llm,\n",
    "    graph=graph,\n",
    "    verbose=True\n",
    ")"
   ]
  },
  {
   "cell_type": "markdown",
   "metadata": {},
   "source": [
    "## Try Some Queries\n",
    "Now you can experiment with different natural language queries"
   ]
  },
  {
   "cell_type": "code",
   "execution_count": null,
   "metadata": {},
   "outputs": [],
   "source": [
    "# Example query\n",
    "question = \"What are the nodes and relationships in the database?\"\n",
    "response = chain.run(question)\n",
    "print(f\"Question: {question}\\n\")\n",
    "print(f\"Response: {response}\")"
   ]
  }
 ],
 "metadata": {
  "kernelspec": {
   "display_name": "neopy2venv",
   "language": "python",
   "name": "python3"
  },
  "language_info": {
   "codemirror_mode": {
    "name": "ipython",
    "version": 3
   },
   "file_extension": ".py",
   "mimetype": "text/x-python",
   "name": "python",
   "nbconvert_exporter": "python",
   "pygments_lexer": "ipython3",
   "version": "3.9.13"
  }
 },
 "nbformat": 4,
 "nbformat_minor": 4
}
